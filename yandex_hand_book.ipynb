{
 "cells": [
  {
   "cell_type": "markdown",
   "id": "2d1d004a",
   "metadata": {},
   "source": [
    "# Описание\n",
    "Задачи и пометки с сайта:\n",
    "https://education.yandex.ru/handbook/algorithms"
   ]
  },
  {
   "cell_type": "markdown",
   "id": "cdd367c7",
   "metadata": {},
   "source": [
    "# Перестановки\n",
    "Выведите число перестановок 𝑃(𝑛)\n",
    "\n",
    "- Формат ввода:\n",
    "\n",
    "В первой строке находится одно число 𝑛 (1≤𝑛≤7)\n",
    "\n",
    "- Формат вывода:\n",
    "\n",
    "Выведите ответ на задачу.\n",
    "\n",
    "- Пример 1.\n",
    "\n",
    "Ввод\n",
    "```\n",
    "2\n",
    "```\n",
    "Вывод\n",
    "```\n",
    "2\n",
    "```\n",
    "\n",
    "- Пример 2:\n",
    "\n",
    "Ввод\n",
    "```\n",
    "1\n",
    "```\n",
    "\n",
    "Вывод\n",
    "```\n",
    "1\n",
    "```\n",
    "\n",
    "Пример 3:\n",
    "\n",
    "Ввод\n",
    "```\n",
    "3\n",
    "```\n",
    "\n",
    "Вывод\n",
    "```\n",
    "6\n",
    "```\n"
   ]
  },
  {
   "cell_type": "code",
   "execution_count": 1,
   "id": "51bef18a",
   "metadata": {
    "ExecuteTime": {
     "end_time": "2024-06-09T16:42:55.270535Z",
     "start_time": "2024-06-09T16:37:15.227544Z"
    }
   },
   "outputs": [
    {
     "name": "stdout",
     "output_type": "stream",
     "text": [
      "5\n",
      "120\n"
     ]
    }
   ],
   "source": [
    "from math import factorial\n",
    "\n",
    "n = int(input())\n",
    "result = factorial(n)\n",
    "print(result)"
   ]
  },
  {
   "cell_type": "markdown",
   "id": "7b894de0",
   "metadata": {},
   "source": [
    "# Сочетания\n",
    "Выведите число сочетаний 𝐶(𝑛,𝑘)\n",
    "- Формат ввода\n",
    "\n",
    "В первой строке находится два числа 𝑛 (1≤𝑛≤7), 𝑘 (1≤𝑘≤7)\n",
    "\n",
    "- Формат вывода\n",
    "\n",
    "Выведите ответ на задачу.\n",
    "\n",
    "### Пример 1\n",
    "Ввод\n",
    "```\n",
    "3 2\n",
    "```\n",
    "Вывод\n",
    "```\n",
    "3\n",
    "```\n",
    "\n",
    "### Пример 2\n",
    "Ввод\n",
    "```\n",
    "7 5\n",
    "```\n",
    "Вывод\n",
    "\n",
    "```\n",
    "21\n",
    "```\n",
    "\n",
    "### Пример 3\n",
    "Ввод\n",
    "```\n",
    "1 1\n",
    "```\n",
    "Вывод\n",
    "```\n",
    "1\n",
    "```\n"
   ]
  },
  {
   "cell_type": "code",
   "execution_count": null,
   "id": "0f89260c",
   "metadata": {},
   "outputs": [],
   "source": []
  }
 ],
 "metadata": {
  "kernelspec": {
   "display_name": "Python 3 (ipykernel)",
   "language": "python",
   "name": "python3"
  },
  "language_info": {
   "codemirror_mode": {
    "name": "ipython",
    "version": 3
   },
   "file_extension": ".py",
   "mimetype": "text/x-python",
   "name": "python",
   "nbconvert_exporter": "python",
   "pygments_lexer": "ipython3",
   "version": "3.10.2"
  },
  "toc": {
   "base_numbering": 1,
   "nav_menu": {},
   "number_sections": true,
   "sideBar": true,
   "skip_h1_title": false,
   "title_cell": "Table of Contents",
   "title_sidebar": "Contents",
   "toc_cell": false,
   "toc_position": {},
   "toc_section_display": true,
   "toc_window_display": false
  },
  "varInspector": {
   "cols": {
    "lenName": 16,
    "lenType": 16,
    "lenVar": 40
   },
   "kernels_config": {
    "python": {
     "delete_cmd_postfix": "",
     "delete_cmd_prefix": "del ",
     "library": "var_list.py",
     "varRefreshCmd": "print(var_dic_list())"
    },
    "r": {
     "delete_cmd_postfix": ") ",
     "delete_cmd_prefix": "rm(",
     "library": "var_list.r",
     "varRefreshCmd": "cat(var_dic_list()) "
    }
   },
   "types_to_exclude": [
    "module",
    "function",
    "builtin_function_or_method",
    "instance",
    "_Feature"
   ],
   "window_display": false
  }
 },
 "nbformat": 4,
 "nbformat_minor": 5
}
