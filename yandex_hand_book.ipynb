{
 "cells": [
  {
   "cell_type": "markdown",
   "id": "d02fea6e",
   "metadata": {},
   "source": [
    "# Описание\n",
    "Задачи и пометки с сайта:\n",
    "https://education.yandex.ru/handbook/algorithms"
   ]
  },
  {
   "cell_type": "markdown",
   "id": "15a34cd1",
   "metadata": {},
   "source": [
    "# Перестановки\n",
    "Выведите число перестановок 𝑃(𝑛)\n",
    "\n",
    "- Формат ввода:\n",
    "\n",
    "В первой строке находится одно число 𝑛 (1≤𝑛≤7)\n",
    "\n",
    "- Формат вывода:\n",
    "\n",
    "Выведите ответ на задачу."
   ]
  },
  {
   "cell_type": "code",
   "execution_count": 7,
   "id": "9bc6f130",
   "metadata": {
    "ExecuteTime": {
     "end_time": "2024-06-09T16:54:23.831017Z",
     "start_time": "2024-06-09T16:54:22.409060Z"
    }
   },
   "outputs": [
    {
     "name": "stdout",
     "output_type": "stream",
     "text": [
      "5\n",
      "Число перестановок P(5) = 120\n"
     ]
    }
   ],
   "source": [
    "from math import factorial\n",
    "\n",
    "n = int(input())\n",
    "result = factorial(n)\n",
    "print(f'Число перестановок P({n}) = {result}')"
   ]
  },
  {
   "cell_type": "markdown",
   "id": "6252d6d0",
   "metadata": {},
   "source": [
    "# Сочетания\n",
    "Выведите число сочетаний 𝐶(𝑛,𝑘)\n",
    "- Формат ввода:\n",
    "\n",
    "В первой строке находится два числа 𝑛 (1≤𝑛≤7), 𝑘 (1≤𝑘≤7)\n",
    "\n",
    "- Формат вывода:\n",
    "\n",
    "Выведите ответ на задачу.\n",
    "\n"
   ]
  },
  {
   "cell_type": "code",
   "execution_count": 12,
   "id": "abb51b38",
   "metadata": {
    "ExecuteTime": {
     "end_time": "2024-06-09T16:56:05.838875Z",
     "start_time": "2024-06-09T16:56:03.004753Z"
    }
   },
   "outputs": [
    {
     "name": "stdout",
     "output_type": "stream",
     "text": [
      "7 5\n",
      "Число комбинаций С(7,5) = 21\n"
     ]
    }
   ],
   "source": [
    "from math import comb\n",
    "\n",
    "n, k = map(int, input().split())\n",
    "result = comb(n, k)\n",
    "print(f'Число комбинаций С({𝑛},{𝑘}) = {result}')"
   ]
  },
  {
   "cell_type": "markdown",
   "id": "0d96e62f",
   "metadata": {},
   "source": [
    "# Сочетания с повторениями\n",
    "Выведите число сочетаний с повторением С‾(𝑛,𝑘).\n",
    "\n",
    "## Формат ввода\n",
    "В первой строке находятся два числа 𝑛 (1≤𝑛≤4), 𝑘 (1≤𝑘≤4)\n",
    "## Формат вывода\n",
    "Выведите ответ на задачу."
   ]
  }
 ],
 "metadata": {
  "kernelspec": {
   "display_name": "Python 3 (ipykernel)",
   "language": "python",
   "name": "python3"
  },
  "language_info": {
   "codemirror_mode": {
    "name": "ipython",
    "version": 3
   },
   "file_extension": ".py",
   "mimetype": "text/x-python",
   "name": "python",
   "nbconvert_exporter": "python",
   "pygments_lexer": "ipython3",
   "version": "3.10.2"
  },
  "toc": {
   "base_numbering": 1,
   "nav_menu": {},
   "number_sections": true,
   "sideBar": true,
   "skip_h1_title": false,
   "title_cell": "Table of Contents",
   "title_sidebar": "Contents",
   "toc_cell": false,
   "toc_position": {},
   "toc_section_display": true,
   "toc_window_display": false
  },
  "varInspector": {
   "cols": {
    "lenName": 16,
    "lenType": 16,
    "lenVar": 40
   },
   "kernels_config": {
    "python": {
     "delete_cmd_postfix": "",
     "delete_cmd_prefix": "del ",
     "library": "var_list.py",
     "varRefreshCmd": "print(var_dic_list())"
    },
    "r": {
     "delete_cmd_postfix": ") ",
     "delete_cmd_prefix": "rm(",
     "library": "var_list.r",
     "varRefreshCmd": "cat(var_dic_list()) "
    }
   },
   "types_to_exclude": [
    "module",
    "function",
    "builtin_function_or_method",
    "instance",
    "_Feature"
   ],
   "window_display": false
  }
 },
 "nbformat": 4,
 "nbformat_minor": 5
}
